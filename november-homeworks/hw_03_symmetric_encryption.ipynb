{
 "cells": [
  {
   "cell_type": "code",
   "execution_count": 11,
   "metadata": {},
   "outputs": [
    {
     "name": "stdout",
     "output_type": "stream",
     "text": [
      "text to Encrypt= the cake is a lie!\n",
      "Encrypted string = b'q\\x99\\xb6\\xd5\\x95\\x11\\xad\\xa8\\xb4\\xd6/\\x800U\\xe4\\xb1\\x89\\x12'\n",
      "\n",
      "Decrypted output= b'The cake is a lie!'\n",
      "\n"
     ]
    }
   ],
   "source": [
    "from Crypto.Cipher import AES                                   \n",
    "from Crypto.Random import get_random_bytes\n",
    "\n",
    "print(f\"text to Encrypt= the cake is a lie!\")\n",
    "encryptionTestString =b'The cake is a lie!'\n",
    "## Can  also do this instead of using =b'' to convert into bytes\n",
    "# myVariableText='This is a text'\n",
    "# encryptionTestString=myVariableText.encode('utf-8')\n",
    "\n",
    "testKey=get_random_bytes(16) \n",
    "cipher =AES.new(testKey, AES.MODE_EAX)\n",
    "encryptedText, tag= cipher.encrypt_and_digest(encryptionTestString)\n",
    "nonce =cipher.nonce\n",
    "print(f'Encrypted string = {encryptedText}')\n",
    "print()\n",
    "\n",
    "##removing crypts, or Decrypting##\n",
    "\n",
    "cipher =AES.new(testKey, AES.MODE_EAX, nonce)\n",
    "decryptedText = cipher.decrypt_and_verify(encryptedText, tag)\n",
    "print(f\"Decrypted output= {decryptedText}\")\n",
    "print()\n",
    "assert decryptedText==encryptionTestString\n"
   ]
  },
  {
   "cell_type": "code",
   "execution_count": null,
   "metadata": {},
   "outputs": [],
   "source": []
  }
 ],
 "metadata": {
  "kernelspec": {
   "display_name": "Python 3",
   "language": "python",
   "name": "python3"
  },
  "language_info": {
   "codemirror_mode": {
    "name": "ipython",
    "version": 3
   },
   "file_extension": ".py",
   "mimetype": "text/x-python",
   "name": "python",
   "nbconvert_exporter": "python",
   "pygments_lexer": "ipython3",
   "version": "3.11.0"
  }
 },
 "nbformat": 4,
 "nbformat_minor": 2
}
