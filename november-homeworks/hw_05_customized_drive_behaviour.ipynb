{
 "cells": [
  {
   "cell_type": "code",
   "execution_count": 29,
   "metadata": {},
   "outputs": [
    {
     "name": "stdout",
     "output_type": "stream",
     "text": [
      "{'brand': 'Volvo', 'odometer': 0, 'range': 500}\n",
      "{'brand': 'Volvo', 'odometer': 0, 'range': 500}\n",
      "{'brand': 'Volvo', 'odometer': 35, 'range': 465}\n",
      "{'brand': 'Volvo', 'odometer': 105, 'range': 395}\n",
      "{'brand': 'Volvo', 'odometer': 210, 'range': 290}\n",
      "{'brand': 'Volvo', 'odometer': 350, 'range': 150}\n",
      "Insuficient range to cover the distance, you'll get stranded\n",
      "{'brand': 'Mercedes', 'odometer': 25000, 'fuelLvl': 25, 'consumption': 8}\n",
      "{'brand': 'Mercedes', 'odometer': 25030, 'fuelLvl': 22.6, 'consumption': 8}\n",
      "{'brand': 'Mercedes', 'odometer': 25090, 'fuelLvl': 17.8, 'consumption': 8}\n",
      "{'brand': 'Mercedes', 'odometer': 25180, 'fuelLvl': 10.600000000000001, 'consumption': 8}\n",
      "{'brand': 'Mercedes', 'odometer': 25300, 'fuelLvl': 1.0000000000000018, 'consumption': 8}\n",
      "not enough fuel for trip, ensure refueling before or along the way\n",
      "not enough fuel for trip, ensure refueling before or along the way\n"
     ]
    }
   ],
   "source": [
    "class Car:\n",
    "    def __init__(self, brand, odometer):\n",
    "        self.brand=brand\n",
    "        self.odometer=odometer\n",
    "\n",
    "    def drive(self, distance_km):\n",
    "        self.odometer+=distance_km\n",
    "\n",
    "class ElectricCar(Car): #This wil lbe a subclass for Car with inherited properties and methods from Car\n",
    "    def __init__(self, brand, odometer, range):\n",
    "        super().__init__(brand, odometer)\n",
    "        self.range=range\n",
    "    # pass #allows non-defined function/class\n",
    "    def drive(self,distance_km):\n",
    "        \n",
    "        Car.drive(self,distance_km)\n",
    "        if self.range-distance_km>0:\n",
    "            self.range-= distance_km\n",
    "            print(my_electric_car.__dict__)\n",
    "        else:\n",
    "            print(\"Insuficient range to cover the distance, you'll get stranded\")\n",
    "\n",
    "class IceCar(Car):\n",
    "    def __init__(self, brand, odometer, fuelLvl, consumption):\n",
    "        Car.__init__(self, brand, odometer)\n",
    "        self.fuelLvl=fuelLvl\n",
    "        self.consumption=consumption\n",
    "        \n",
    "    def drive(self,distance_km):\n",
    "        Car.drive(self,distance_km)\n",
    "        if self.fuelLvl-(distance_km*self.consumption/100)<0:\n",
    "            print(\"not enough fuel for trip, ensure refueling before or along the way\")\n",
    "        else:\n",
    "            self.fuelLvl-=distance_km*self.consumption/100\n",
    "            print(my_ice_car.__dict__)\n",
    "\n",
    "my_electric_car= ElectricCar('Volvo', 0, 500)\n",
    "print(my_electric_car.__dict__)\n",
    "i=0\n",
    "while i<6:\n",
    "    my_electric_car.drive(distance_km=35*i)\n",
    "   \n",
    "    i+=1\n",
    "\n",
    "my_ice_car=IceCar(\"Mercedes\", 25000 ,25, 8)\n",
    "print(my_ice_car.__dict__)\n",
    "i=0\n",
    "while i<6:\n",
    "    i+=1\n",
    "    my_ice_car.drive(distance_km=30*i)\n",
    "    \n"
   ]
  },
  {
   "cell_type": "code",
   "execution_count": null,
   "metadata": {},
   "outputs": [],
   "source": []
  }
 ],
 "metadata": {
  "kernelspec": {
   "display_name": "Python 3",
   "language": "python",
   "name": "python3"
  },
  "language_info": {
   "name": "python",
   "version": "3.11.0"
  }
 },
 "nbformat": 4,
 "nbformat_minor": 2
}
