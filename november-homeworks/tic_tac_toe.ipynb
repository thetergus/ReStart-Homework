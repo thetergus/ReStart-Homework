{
 "cells": [
  {
   "cell_type": "code",
   "execution_count": 59,
   "metadata": {},
   "outputs": [
    {
     "name": "stdout",
     "output_type": "stream",
     "text": [
      "Tic-Tac-Toe grid with size 2 has been created in 'tic_tac_toe.txt'.\n"
     ]
    }
   ],
   "source": [
    "while True:\n",
    "    gridSize = input(\"Welcome to TIC-TAC-TOE! Please select the grid size (numbers only): \")\n",
    "\n",
    "    if gridSize.isdigit() and int(gridSize) > 0:\n",
    "        gridSize = int(gridSize)\n",
    "        \n",
    "        with open('tic_tac_toe.txt', 'w', encoding='utf-8') as gridFile:            \n",
    "            nonCrossLine = ('░' * (gridSize), '║', '░' * gridSize, '║', '░' * gridSize)\n",
    "            crossLine =        ('═' * gridSize,       '╬', '═' * gridSize,'╬', '═' * gridSize)\n",
    "\n",
    "            for i in range(1, 2 + 1):            \n",
    "                for i in range(1, gridSize + 1):\n",
    "                    gridFile.write(\"\".join(nonCrossLine) + \"\\n\")\n",
    "                gridFile.write(\"\".join(crossLine) + \"\\n\")\n",
    "            for i in range(1, gridSize + 1):\n",
    "                gridFile.write(\"\".join(nonCrossLine) + \"\\n\")\n",
    "\n",
    "              \n",
    "        print(\"Tic-Tac-Toe grid with size\", gridSize, \"has been created in 'tic_tac_toe.txt'.\")\n",
    "        break\n",
    "    else:\n",
    "        print(\"Please enter a valid grid size (numbers only, greater than 0). Try again.\")\n"
   ]
  }
 ],
 "metadata": {
  "kernelspec": {
   "display_name": "Python 3",
   "language": "python",
   "name": "python3"
  },
  "language_info": {
   "codemirror_mode": {
    "name": "ipython",
    "version": 3
   },
   "file_extension": ".py",
   "mimetype": "text/x-python",
   "name": "python",
   "nbconvert_exporter": "python",
   "pygments_lexer": "ipython3",
   "version": "3.11.0"
  }
 },
 "nbformat": 4,
 "nbformat_minor": 2
}
