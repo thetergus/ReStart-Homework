{
 "cells": [
  {
   "cell_type": "code",
   "execution_count": 13,
   "metadata": {},
   "outputs": [
    {
     "name": "stdout",
     "output_type": "stream",
     "text": [
      "36\n",
      "Message: fdhvud#vkdoo#uxoh$$.       Key= 3\n",
      "Message: caesra shall rule!!.       Key= 3\n"
     ]
    }
   ],
   "source": [
    "def caesarEncryption(myInput,myKey):\n",
    "    myEncryptedMessage=''\n",
    "    alteredCharacterCode=''\n",
    "\n",
    "    for character in myInput:\n",
    "        characterCode=ord(character.lower())\n",
    "        alteredCharacterCode= characterCode - ord('t') +myKey % 26 + ord('t') #the Mod%26 is needed to keep in range (this is where my more complex attempt failed)\n",
    "        myEncryptedMessage+=chr(alteredCharacterCode)\n",
    "    print(alteredCharacterCode)\n",
    "\n",
    "    return myEncryptedMessage\n",
    "\n",
    "def caesarDecryption(myEncryptedMessage, myKey):\n",
    "    myDecryptedMessage=''\n",
    "    for character in myEncryptedMessage:\n",
    "        characterCode=ord(character.lower())\n",
    "        alteredCharacterCode= characterCode - ord('t') -myKey % 26 + ord('t') # we are anchoring the start point of the characters to the lower case a\n",
    "        myDecryptedMessage+=chr(alteredCharacterCode)\n",
    "    return myDecryptedMessage\n",
    "\n",
    "\n",
    "\n",
    "myInput=input(\"Welcome to Caesar's encrypter, please enter your message\")\n",
    "if myInput !='':\n",
    "    myKey=input('Please chose a number from 2 to 10')\n",
    "    try:\n",
    "        int(myKey)\n",
    "    except Exception as e:\n",
    "        print('You have not entered a number')\n",
    "\n",
    "    if myKey !='' and int(myKey)>1 and int(myKey)<11:\n",
    "        \n",
    "        myEncryptedMessage=caesarEncryption(myInput,int(myKey))\n",
    "        print(f'Message: {myEncryptedMessage}.       Key= {myKey}')\n",
    "        \n",
    "        myDecryptedMessage=caesarDecryption(myEncryptedMessage,int(myKey))\n",
    "        print(f'Message: {myDecryptedMessage}.       Key= {myKey}')\n",
    "    else:\n",
    "        print('Wrong value entered, please restart the process')\n",
    "\n",
    "\n",
    "\n",
    "\n",
    "\n",
    "\n"
   ]
  }
 ],
 "metadata": {
  "kernelspec": {
   "display_name": "Python 3",
   "language": "python",
   "name": "python3"
  },
  "language_info": {
   "codemirror_mode": {
    "name": "ipython",
    "version": 3
   },
   "file_extension": ".py",
   "mimetype": "text/x-python",
   "name": "python",
   "nbconvert_exporter": "python",
   "pygments_lexer": "ipython3",
   "version": "3.11.0"
  }
 },
 "nbformat": 4,
 "nbformat_minor": 2
}
